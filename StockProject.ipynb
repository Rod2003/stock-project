{
 "cells": [
  {
   "cell_type": "code",
   "execution_count": 4,
   "metadata": {
    "colab": {
     "base_uri": "https://localhost:8080/"
    },
    "id": "qtQKAzXbaf5F",
    "outputId": "bda52cdc-389c-4797-c5aa-0277d2adc7e4"
   },
   "outputs": [
    {
     "name": "stdout",
     "output_type": "stream",
     "text": [
      "Collecting keras\n",
      "\u001b[?25l  Downloading https://files.pythonhosted.org/packages/d5/80/34e55d7e3ed9cf18020929460f969de1bf82cf2f509c639b358ae2b25618/keras-2.12.0-py2.py3-none-any.whl (1.7MB)\n",
      "\u001b[K     |████████████████████████████████| 1.7MB 205kB/s eta 0:00:01\n",
      "\u001b[?25hInstalling collected packages: keras\n",
      "\u001b[31mERROR: Could not install packages due to an EnvironmentError: [Errno 13] Permission denied: '/Library/Python/3.8'\n",
      "Consider using the `--user` option or check the permissions.\n",
      "\u001b[0m\n",
      "\u001b[33mWARNING: You are using pip version 19.2.3, however version 23.1.2 is available.\n",
      "You should consider upgrading via the 'pip install --upgrade pip' command.\u001b[0m\n"
     ]
    }
   ],
   "source": [
    "!pip3 install keras"
   ]
  },
  {
   "cell_type": "markdown",
   "metadata": {
    "id": "UcBp1p50bJUX"
   },
   "source": [
    "MSFT Stock Prediction"
   ]
  },
  {
   "cell_type": "code",
   "execution_count": 5,
   "metadata": {
    "id": "Wq9H8d9fbGa2"
   },
   "outputs": [
    {
     "ename": "ModuleNotFoundError",
     "evalue": "No module named 'yfinance'",
     "output_type": "error",
     "traceback": [
      "\u001b[0;31m---------------------------------------------------------------------------\u001b[0m",
      "\u001b[0;31mModuleNotFoundError\u001b[0m                       Traceback (most recent call last)",
      "Cell \u001b[0;32mIn[5], line 1\u001b[0m\n\u001b[0;32m----> 1\u001b[0m \u001b[39mimport\u001b[39;00m \u001b[39myfinance\u001b[39;00m \u001b[39mas\u001b[39;00m \u001b[39myf\u001b[39;00m\n\u001b[1;32m      3\u001b[0m shop \u001b[39m=\u001b[39m yf\u001b[39m.\u001b[39mTicker(\u001b[39m\"\u001b[39m\u001b[39mSHOP\u001b[39m\u001b[39m\"\u001b[39m)\n\u001b[1;32m      4\u001b[0m shop_hist \u001b[39m=\u001b[39m shop\u001b[39m.\u001b[39mhistory(period\u001b[39m=\u001b[39m\u001b[39m\"\u001b[39m\u001b[39mmax\u001b[39m\u001b[39m\"\u001b[39m)\n",
      "\u001b[0;31mModuleNotFoundError\u001b[0m: No module named 'yfinance'"
     ]
    }
   ],
   "source": [
    "import yfinance as yf\n",
    "\n",
    "shop = yf.Ticker(\"SHOP\")\n",
    "shop_hist = shop.history(period=\"max\")"
   ]
  },
  {
   "cell_type": "code",
   "execution_count": null,
   "metadata": {
    "colab": {
     "base_uri": "https://localhost:8080/",
     "height": 238
    },
    "id": "Yb7uq-O1beel",
    "outputId": "86a72d4b-477e-4d49-95bd-dd72f5cf3e86"
   },
   "outputs": [
    {
     "data": {
      "text/html": [
       "<div>\n",
       "<style scoped>\n",
       "    .dataframe tbody tr th:only-of-type {\n",
       "        vertical-align: middle;\n",
       "    }\n",
       "\n",
       "    .dataframe tbody tr th {\n",
       "        vertical-align: top;\n",
       "    }\n",
       "\n",
       "    .dataframe thead th {\n",
       "        text-align: right;\n",
       "    }\n",
       "</style>\n",
       "<table border=\"1\" class=\"dataframe\">\n",
       "  <thead>\n",
       "    <tr style=\"text-align: right;\">\n",
       "      <th></th>\n",
       "      <th>Open</th>\n",
       "      <th>High</th>\n",
       "      <th>Low</th>\n",
       "      <th>Close</th>\n",
       "      <th>Volume</th>\n",
       "      <th>Dividends</th>\n",
       "      <th>Stock Splits</th>\n",
       "    </tr>\n",
       "    <tr>\n",
       "      <th>Date</th>\n",
       "      <th></th>\n",
       "      <th></th>\n",
       "      <th></th>\n",
       "      <th></th>\n",
       "      <th></th>\n",
       "      <th></th>\n",
       "      <th></th>\n",
       "    </tr>\n",
       "  </thead>\n",
       "  <tbody>\n",
       "    <tr>\n",
       "      <th>2015-05-20 00:00:00-04:00</th>\n",
       "      <td>1.700</td>\n",
       "      <td>1.700</td>\n",
       "      <td>1.700</td>\n",
       "      <td>1.700</td>\n",
       "      <td>0</td>\n",
       "      <td>0.0</td>\n",
       "      <td>0.0</td>\n",
       "    </tr>\n",
       "    <tr>\n",
       "      <th>2015-05-21 00:00:00-04:00</th>\n",
       "      <td>2.800</td>\n",
       "      <td>2.874</td>\n",
       "      <td>2.411</td>\n",
       "      <td>2.568</td>\n",
       "      <td>123039000</td>\n",
       "      <td>0.0</td>\n",
       "      <td>0.0</td>\n",
       "    </tr>\n",
       "    <tr>\n",
       "      <th>2015-05-22 00:00:00-04:00</th>\n",
       "      <td>2.607</td>\n",
       "      <td>3.110</td>\n",
       "      <td>2.600</td>\n",
       "      <td>2.831</td>\n",
       "      <td>28412000</td>\n",
       "      <td>0.0</td>\n",
       "      <td>0.0</td>\n",
       "    </tr>\n",
       "    <tr>\n",
       "      <th>2015-05-26 00:00:00-04:00</th>\n",
       "      <td>2.980</td>\n",
       "      <td>3.034</td>\n",
       "      <td>2.908</td>\n",
       "      <td>2.965</td>\n",
       "      <td>8202000</td>\n",
       "      <td>0.0</td>\n",
       "      <td>0.0</td>\n",
       "    </tr>\n",
       "    <tr>\n",
       "      <th>2015-05-27 00:00:00-04:00</th>\n",
       "      <td>3.067</td>\n",
       "      <td>3.081</td>\n",
       "      <td>2.700</td>\n",
       "      <td>2.750</td>\n",
       "      <td>7976000</td>\n",
       "      <td>0.0</td>\n",
       "      <td>0.0</td>\n",
       "    </tr>\n",
       "  </tbody>\n",
       "</table>\n",
       "</div>"
      ],
      "text/plain": [
       "                            Open   High    Low  Close     Volume  Dividends  \\\n",
       "Date                                                                          \n",
       "2015-05-20 00:00:00-04:00  1.700  1.700  1.700  1.700          0        0.0   \n",
       "2015-05-21 00:00:00-04:00  2.800  2.874  2.411  2.568  123039000        0.0   \n",
       "2015-05-22 00:00:00-04:00  2.607  3.110  2.600  2.831   28412000        0.0   \n",
       "2015-05-26 00:00:00-04:00  2.980  3.034  2.908  2.965    8202000        0.0   \n",
       "2015-05-27 00:00:00-04:00  3.067  3.081  2.700  2.750    7976000        0.0   \n",
       "\n",
       "                           Stock Splits  \n",
       "Date                                     \n",
       "2015-05-20 00:00:00-04:00           0.0  \n",
       "2015-05-21 00:00:00-04:00           0.0  \n",
       "2015-05-22 00:00:00-04:00           0.0  \n",
       "2015-05-26 00:00:00-04:00           0.0  \n",
       "2015-05-27 00:00:00-04:00           0.0  "
      ]
     },
     "execution_count": 3,
     "metadata": {},
     "output_type": "execute_result"
    }
   ],
   "source": [
    "shop_hist.head(5)"
   ]
  },
  {
   "cell_type": "code",
   "execution_count": null,
   "metadata": {
    "colab": {
     "base_uri": "https://localhost:8080/",
     "height": 288
    },
    "id": "B5ALHXoPbg1j",
    "outputId": "de4f0a4f-ba10-47eb-9688-7dc7ecf1e893"
   },
   "outputs": [
    {
     "data": {
      "text/plain": [
       "<AxesSubplot:xlabel='Date'>"
      ]
     },
     "execution_count": 4,
     "metadata": {},
     "output_type": "execute_result"
    },
    {
     "data": {
      "image/png": "[encoded data removed]",
      "text/plain": [
       "<Figure size 432x288 with 1 Axes>"
      ]
     },
     "metadata": {
      "needs_background": "light"
     },
     "output_type": "display_data"
    }
   ],
   "source": [
    "shop_hist.plot.line(y=\"Close\", use_index=True)"
   ]
  },
  {
   "cell_type": "markdown",
   "metadata": {
    "id": "fNQhhf6xcXiH"
   },
   "source": [
    "Preparing Data"
   ]
  },
  {
   "cell_type": "code",
   "execution_count": null,
   "metadata": {
    "colab": {
     "base_uri": "https://localhost:8080/",
     "height": 169
    },
    "id": "HTCXgaD5cJeZ",
    "outputId": "e6a5ab8f-b6a6-4f6e-c01b-7bcfdfd869dd",
    "tags": []
   },
   "outputs": [],
   "source": [
    "data = shop_hist[[\"Close\"]]\n",
    "data = data.rename(columns = {'Close':'Actual_Close'})\n",
    "data[\"Target\"] = shop_hist.rolling(2).apply(lambda x: x.iloc[1] > x.iloc[0])[\"Close\"]"
   ]
  },
  {
   "cell_type": "code",
   "execution_count": null,
   "metadata": {},
   "outputs": [
    {
     "data": {
      "text/html": [
       "<div>\n",
       "<style scoped>\n",
       "    .dataframe tbody tr th:only-of-type {\n",
       "        vertical-align: middle;\n",
       "    }\n",
       "\n",
       "    .dataframe tbody tr th {\n",
       "        vertical-align: top;\n",
       "    }\n",
       "\n",
       "    .dataframe thead th {\n",
       "        text-align: right;\n",
       "    }\n",
       "</style>\n",
       "<table border=\"1\" class=\"dataframe\">\n",
       "  <thead>\n",
       "    <tr style=\"text-align: right;\">\n",
       "      <th></th>\n",
       "      <th>Actual_Close</th>\n",
       "      <th>Target</th>\n",
       "    </tr>\n",
       "    <tr>\n",
       "      <th>Date</th>\n",
       "      <th></th>\n",
       "      <th></th>\n",
       "    </tr>\n",
       "  </thead>\n",
       "  <tbody>\n",
       "    <tr>\n",
       "      <th>2015-05-20 00:00:00-04:00</th>\n",
       "      <td>1.700</td>\n",
       "      <td>NaN</td>\n",
       "    </tr>\n",
       "    <tr>\n",
       "      <th>2015-05-21 00:00:00-04:00</th>\n",
       "      <td>2.568</td>\n",
       "      <td>1.0</td>\n",
       "    </tr>\n",
       "    <tr>\n",
       "      <th>2015-05-22 00:00:00-04:00</th>\n",
       "      <td>2.831</td>\n",
       "      <td>1.0</td>\n",
       "    </tr>\n",
       "    <tr>\n",
       "      <th>2015-05-26 00:00:00-04:00</th>\n",
       "      <td>2.965</td>\n",
       "      <td>1.0</td>\n",
       "    </tr>\n",
       "    <tr>\n",
       "      <th>2015-05-27 00:00:00-04:00</th>\n",
       "      <td>2.750</td>\n",
       "      <td>0.0</td>\n",
       "    </tr>\n",
       "  </tbody>\n",
       "</table>\n",
       "</div>"
      ],
      "text/plain": [
       "                           Actual_Close  Target\n",
       "Date                                           \n",
       "2015-05-20 00:00:00-04:00         1.700     NaN\n",
       "2015-05-21 00:00:00-04:00         2.568     1.0\n",
       "2015-05-22 00:00:00-04:00         2.831     1.0\n",
       "2015-05-26 00:00:00-04:00         2.965     1.0\n",
       "2015-05-27 00:00:00-04:00         2.750     0.0"
      ]
     },
     "execution_count": 6,
     "metadata": {},
     "output_type": "execute_result"
    }
   ],
   "source": [
    "data.head(5)"
   ]
  },
  {
   "cell_type": "code",
   "execution_count": null,
   "metadata": {},
   "outputs": [],
   "source": [
    "shop_prev = shop_hist.copy()"
   ]
  },
  {
   "cell_type": "code",
   "execution_count": null,
   "metadata": {},
   "outputs": [],
   "source": [
    "shop_prev = shop_prev.shift(1)"
   ]
  },
  {
   "cell_type": "code",
   "execution_count": null,
   "metadata": {},
   "outputs": [
    {
     "data": {
      "text/html": [
       "<div>\n",
       "<style scoped>\n",
       "    .dataframe tbody tr th:only-of-type {\n",
       "        vertical-align: middle;\n",
       "    }\n",
       "\n",
       "    .dataframe tbody tr th {\n",
       "        vertical-align: top;\n",
       "    }\n",
       "\n",
       "    .dataframe thead th {\n",
       "        text-align: right;\n",
       "    }\n",
       "</style>\n",
       "<table border=\"1\" class=\"dataframe\">\n",
       "  <thead>\n",
       "    <tr style=\"text-align: right;\">\n",
       "      <th></th>\n",
       "      <th>Open</th>\n",
       "      <th>High</th>\n",
       "      <th>Low</th>\n",
       "      <th>Close</th>\n",
       "      <th>Volume</th>\n",
       "      <th>Dividends</th>\n",
       "      <th>Stock Splits</th>\n",
       "    </tr>\n",
       "    <tr>\n",
       "      <th>Date</th>\n",
       "      <th></th>\n",
       "      <th></th>\n",
       "      <th></th>\n",
       "      <th></th>\n",
       "      <th></th>\n",
       "      <th></th>\n",
       "      <th></th>\n",
       "    </tr>\n",
       "  </thead>\n",
       "  <tbody>\n",
       "    <tr>\n",
       "      <th>2015-05-20 00:00:00-04:00</th>\n",
       "      <td>NaN</td>\n",
       "      <td>NaN</td>\n",
       "      <td>NaN</td>\n",
       "      <td>NaN</td>\n",
       "      <td>NaN</td>\n",
       "      <td>NaN</td>\n",
       "      <td>NaN</td>\n",
       "    </tr>\n",
       "    <tr>\n",
       "      <th>2015-05-21 00:00:00-04:00</th>\n",
       "      <td>1.700</td>\n",
       "      <td>1.700</td>\n",
       "      <td>1.700</td>\n",
       "      <td>1.700</td>\n",
       "      <td>0.0</td>\n",
       "      <td>0.0</td>\n",
       "      <td>0.0</td>\n",
       "    </tr>\n",
       "    <tr>\n",
       "      <th>2015-05-22 00:00:00-04:00</th>\n",
       "      <td>2.800</td>\n",
       "      <td>2.874</td>\n",
       "      <td>2.411</td>\n",
       "      <td>2.568</td>\n",
       "      <td>123039000.0</td>\n",
       "      <td>0.0</td>\n",
       "      <td>0.0</td>\n",
       "    </tr>\n",
       "    <tr>\n",
       "      <th>2015-05-26 00:00:00-04:00</th>\n",
       "      <td>2.607</td>\n",
       "      <td>3.110</td>\n",
       "      <td>2.600</td>\n",
       "      <td>2.831</td>\n",
       "      <td>28412000.0</td>\n",
       "      <td>0.0</td>\n",
       "      <td>0.0</td>\n",
       "    </tr>\n",
       "    <tr>\n",
       "      <th>2015-05-27 00:00:00-04:00</th>\n",
       "      <td>2.980</td>\n",
       "      <td>3.034</td>\n",
       "      <td>2.908</td>\n",
       "      <td>2.965</td>\n",
       "      <td>8202000.0</td>\n",
       "      <td>0.0</td>\n",
       "      <td>0.0</td>\n",
       "    </tr>\n",
       "  </tbody>\n",
       "</table>\n",
       "</div>"
      ],
      "text/plain": [
       "                            Open   High    Low  Close       Volume  Dividends  \\\n",
       "Date                                                                            \n",
       "2015-05-20 00:00:00-04:00    NaN    NaN    NaN    NaN          NaN        NaN   \n",
       "2015-05-21 00:00:00-04:00  1.700  1.700  1.700  1.700          0.0        0.0   \n",
       "2015-05-22 00:00:00-04:00  2.800  2.874  2.411  2.568  123039000.0        0.0   \n",
       "2015-05-26 00:00:00-04:00  2.607  3.110  2.600  2.831   28412000.0        0.0   \n",
       "2015-05-27 00:00:00-04:00  2.980  3.034  2.908  2.965    8202000.0        0.0   \n",
       "\n",
       "                           Stock Splits  \n",
       "Date                                     \n",
       "2015-05-20 00:00:00-04:00           NaN  \n",
       "2015-05-21 00:00:00-04:00           0.0  \n",
       "2015-05-22 00:00:00-04:00           0.0  \n",
       "2015-05-26 00:00:00-04:00           0.0  \n",
       "2015-05-27 00:00:00-04:00           0.0  "
      ]
     },
     "execution_count": 9,
     "metadata": {},
     "output_type": "execute_result"
    }
   ],
   "source": [
    "shop_prev.head(5)"
   ]
  },
  {
   "cell_type": "code",
   "execution_count": null,
   "metadata": {},
   "outputs": [],
   "source": [
    "predictors = [\"Close\", \"High\", \"Low\", \"Open\", \"Volume\"]\n",
    "data = data.join(shop_prev[predictors]).iloc[1:]"
   ]
  },
  {
   "cell_type": "code",
   "execution_count": null,
   "metadata": {},
   "outputs": [
    {
     "data": {
      "text/html": [
       "<div>\n",
       "<style scoped>\n",
       "    .dataframe tbody tr th:only-of-type {\n",
       "        vertical-align: middle;\n",
       "    }\n",
       "\n",
       "    .dataframe tbody tr th {\n",
       "        vertical-align: top;\n",
       "    }\n",
       "\n",
       "    .dataframe thead th {\n",
       "        text-align: right;\n",
       "    }\n",
       "</style>\n",
       "<table border=\"1\" class=\"dataframe\">\n",
       "  <thead>\n",
       "    <tr style=\"text-align: right;\">\n",
       "      <th></th>\n",
       "      <th>Actual_Close</th>\n",
       "      <th>Target</th>\n",
       "      <th>Close</th>\n",
       "      <th>High</th>\n",
       "      <th>Low</th>\n",
       "      <th>Open</th>\n",
       "      <th>Volume</th>\n",
       "    </tr>\n",
       "    <tr>\n",
       "      <th>Date</th>\n",
       "      <th></th>\n",
       "      <th></th>\n",
       "      <th></th>\n",
       "      <th></th>\n",
       "      <th></th>\n",
       "      <th></th>\n",
       "      <th></th>\n",
       "    </tr>\n",
       "  </thead>\n",
       "  <tbody>\n",
       "    <tr>\n",
       "      <th>2015-05-21 00:00:00-04:00</th>\n",
       "      <td>2.568</td>\n",
       "      <td>1.0</td>\n",
       "      <td>1.700</td>\n",
       "      <td>1.700</td>\n",
       "      <td>1.700</td>\n",
       "      <td>1.700</td>\n",
       "      <td>0.0</td>\n",
       "    </tr>\n",
       "    <tr>\n",
       "      <th>2015-05-22 00:00:00-04:00</th>\n",
       "      <td>2.831</td>\n",
       "      <td>1.0</td>\n",
       "      <td>2.568</td>\n",
       "      <td>2.874</td>\n",
       "      <td>2.411</td>\n",
       "      <td>2.800</td>\n",
       "      <td>123039000.0</td>\n",
       "    </tr>\n",
       "    <tr>\n",
       "      <th>2015-05-26 00:00:00-04:00</th>\n",
       "      <td>2.965</td>\n",
       "      <td>1.0</td>\n",
       "      <td>2.831</td>\n",
       "      <td>3.110</td>\n",
       "      <td>2.600</td>\n",
       "      <td>2.607</td>\n",
       "      <td>28412000.0</td>\n",
       "    </tr>\n",
       "    <tr>\n",
       "      <th>2015-05-27 00:00:00-04:00</th>\n",
       "      <td>2.750</td>\n",
       "      <td>0.0</td>\n",
       "      <td>2.965</td>\n",
       "      <td>3.034</td>\n",
       "      <td>2.908</td>\n",
       "      <td>2.980</td>\n",
       "      <td>8202000.0</td>\n",
       "    </tr>\n",
       "    <tr>\n",
       "      <th>2015-05-28 00:00:00-04:00</th>\n",
       "      <td>2.745</td>\n",
       "      <td>0.0</td>\n",
       "      <td>2.750</td>\n",
       "      <td>3.081</td>\n",
       "      <td>2.700</td>\n",
       "      <td>3.067</td>\n",
       "      <td>7976000.0</td>\n",
       "    </tr>\n",
       "  </tbody>\n",
       "</table>\n",
       "</div>"
      ],
      "text/plain": [
       "                           Actual_Close  Target  Close   High    Low   Open  \\\n",
       "Date                                                                          \n",
       "2015-05-21 00:00:00-04:00         2.568     1.0  1.700  1.700  1.700  1.700   \n",
       "2015-05-22 00:00:00-04:00         2.831     1.0  2.568  2.874  2.411  2.800   \n",
       "2015-05-26 00:00:00-04:00         2.965     1.0  2.831  3.110  2.600  2.607   \n",
       "2015-05-27 00:00:00-04:00         2.750     0.0  2.965  3.034  2.908  2.980   \n",
       "2015-05-28 00:00:00-04:00         2.745     0.0  2.750  3.081  2.700  3.067   \n",
       "\n",
       "                                Volume  \n",
       "Date                                    \n",
       "2015-05-21 00:00:00-04:00          0.0  \n",
       "2015-05-22 00:00:00-04:00  123039000.0  \n",
       "2015-05-26 00:00:00-04:00   28412000.0  \n",
       "2015-05-27 00:00:00-04:00    8202000.0  \n",
       "2015-05-28 00:00:00-04:00    7976000.0  "
      ]
     },
     "execution_count": 11,
     "metadata": {},
     "output_type": "execute_result"
    }
   ],
   "source": [
    "data.head(5)"
   ]
  },
  {
   "cell_type": "code",
   "execution_count": null,
   "metadata": {},
   "outputs": [
    {
     "name": "stderr",
     "output_type": "stream",
     "text": [
      "/Users/roddbeatz/opt/anaconda3/lib/python3.8/site-packages/scipy/__init__.py:138: UserWarning: A NumPy version >=1.16.5 and <1.23.0 is required for this version of SciPy (detected version 1.24.1)\n",
      "  warnings.warn(f\"A NumPy version >={np_minversion} and <{np_maxversion} is required for this version of \"\n"
     ]
    },
    {
     "data": {
      "text/plain": [
       "RandomForestClassifier(min_samples_split=20, n_estimators=500, random_state=1)"
      ]
     },
     "execution_count": 12,
     "metadata": {},
     "output_type": "execute_result"
    }
   ],
   "source": [
    "from sklearn.ensemble import RandomForestClassifier\n",
    "\n",
    "model = RandomForestClassifier(n_estimators=500, min_samples_split=20, random_state=1)\n",
    "\n",
    "train = data.iloc[:-100]\n",
    "test = data.iloc[-100:]\n",
    "\n",
    "model.fit(train[predictors], train[\"Target\"])"
   ]
  },
  {
   "cell_type": "code",
   "execution_count": null,
   "metadata": {},
   "outputs": [],
   "source": [
    "from sklearn.metrics import precision_score\n",
    "import pandas as pd\n",
    "\n",
    "preds = model.predict(test[predictors])\n",
    "preds = pd.Series(preds, index=test.index)"
   ]
  },
  {
   "cell_type": "code",
   "execution_count": null,
   "metadata": {},
   "outputs": [
    {
     "data": {
      "text/plain": [
       "Date\n",
       "2022-09-13 00:00:00-04:00    0.0\n",
       "2022-09-14 00:00:00-04:00    1.0\n",
       "2022-09-15 00:00:00-04:00    1.0\n",
       "2022-09-16 00:00:00-04:00    1.0\n",
       "2022-09-19 00:00:00-04:00    1.0\n",
       "                            ... \n",
       "2023-01-30 00:00:00-05:00    0.0\n",
       "2023-01-31 00:00:00-05:00    1.0\n",
       "2023-02-01 00:00:00-05:00    1.0\n",
       "2023-02-02 00:00:00-05:00    0.0\n",
       "2023-02-03 00:00:00-05:00    1.0\n",
       "Length: 100, dtype: float64"
      ]
     },
     "execution_count": 14,
     "metadata": {},
     "output_type": "execute_result"
    }
   ],
   "source": [
    "preds"
   ]
  },
  {
   "cell_type": "code",
   "execution_count": null,
   "metadata": {},
   "outputs": [
    {
     "data": {
      "text/plain": [
       "0.5714285714285714"
      ]
     },
     "execution_count": 15,
     "metadata": {},
     "output_type": "execute_result"
    }
   ],
   "source": [
    "precision_score(test[\"Target\"], preds)"
   ]
  },
  {
   "cell_type": "code",
   "execution_count": null,
   "metadata": {},
   "outputs": [
    {
     "data": {
      "text/html": [
       "<div>\n",
       "<style scoped>\n",
       "    .dataframe tbody tr th:only-of-type {\n",
       "        vertical-align: middle;\n",
       "    }\n",
       "\n",
       "    .dataframe tbody tr th {\n",
       "        vertical-align: top;\n",
       "    }\n",
       "\n",
       "    .dataframe thead th {\n",
       "        text-align: right;\n",
       "    }\n",
       "</style>\n",
       "<table border=\"1\" class=\"dataframe\">\n",
       "  <thead>\n",
       "    <tr style=\"text-align: right;\">\n",
       "      <th></th>\n",
       "      <th>Target</th>\n",
       "      <th>Predictions</th>\n",
       "    </tr>\n",
       "    <tr>\n",
       "      <th>Date</th>\n",
       "      <th></th>\n",
       "      <th></th>\n",
       "    </tr>\n",
       "  </thead>\n",
       "  <tbody>\n",
       "    <tr>\n",
       "      <th>2022-09-13 00:00:00-04:00</th>\n",
       "      <td>0.0</td>\n",
       "      <td>0.0</td>\n",
       "    </tr>\n",
       "    <tr>\n",
       "      <th>2022-09-14 00:00:00-04:00</th>\n",
       "      <td>1.0</td>\n",
       "      <td>1.0</td>\n",
       "    </tr>\n",
       "    <tr>\n",
       "      <th>2022-09-15 00:00:00-04:00</th>\n",
       "      <td>1.0</td>\n",
       "      <td>1.0</td>\n",
       "    </tr>\n",
       "    <tr>\n",
       "      <th>2022-09-16 00:00:00-04:00</th>\n",
       "      <td>0.0</td>\n",
       "      <td>1.0</td>\n",
       "    </tr>\n",
       "    <tr>\n",
       "      <th>2022-09-19 00:00:00-04:00</th>\n",
       "      <td>1.0</td>\n",
       "      <td>1.0</td>\n",
       "    </tr>\n",
       "    <tr>\n",
       "      <th>...</th>\n",
       "      <td>...</td>\n",
       "      <td>...</td>\n",
       "    </tr>\n",
       "    <tr>\n",
       "      <th>2023-01-30 00:00:00-05:00</th>\n",
       "      <td>0.0</td>\n",
       "      <td>0.0</td>\n",
       "    </tr>\n",
       "    <tr>\n",
       "      <th>2023-01-31 00:00:00-05:00</th>\n",
       "      <td>1.0</td>\n",
       "      <td>1.0</td>\n",
       "    </tr>\n",
       "    <tr>\n",
       "      <th>2023-02-01 00:00:00-05:00</th>\n",
       "      <td>1.0</td>\n",
       "      <td>1.0</td>\n",
       "    </tr>\n",
       "    <tr>\n",
       "      <th>2023-02-02 00:00:00-05:00</th>\n",
       "      <td>1.0</td>\n",
       "      <td>0.0</td>\n",
       "    </tr>\n",
       "    <tr>\n",
       "      <th>2023-02-03 00:00:00-05:00</th>\n",
       "      <td>0.0</td>\n",
       "      <td>1.0</td>\n",
       "    </tr>\n",
       "  </tbody>\n",
       "</table>\n",
       "<p>100 rows × 2 columns</p>\n",
       "</div>"
      ],
      "text/plain": [
       "                           Target  Predictions\n",
       "Date                                          \n",
       "2022-09-13 00:00:00-04:00     0.0          0.0\n",
       "2022-09-14 00:00:00-04:00     1.0          1.0\n",
       "2022-09-15 00:00:00-04:00     1.0          1.0\n",
       "2022-09-16 00:00:00-04:00     0.0          1.0\n",
       "2022-09-19 00:00:00-04:00     1.0          1.0\n",
       "...                           ...          ...\n",
       "2023-01-30 00:00:00-05:00     0.0          0.0\n",
       "2023-01-31 00:00:00-05:00     1.0          1.0\n",
       "2023-02-01 00:00:00-05:00     1.0          1.0\n",
       "2023-02-02 00:00:00-05:00     1.0          0.0\n",
       "2023-02-03 00:00:00-05:00     0.0          1.0\n",
       "\n",
       "[100 rows x 2 columns]"
      ]
     },
     "execution_count": 16,
     "metadata": {},
     "output_type": "execute_result"
    }
   ],
   "source": [
    "combined = pd.concat({\"Target\": test[\"Target\"], \"Predictions\": preds}, axis=1)\n",
    "combined"
   ]
  },
  {
   "cell_type": "code",
   "execution_count": null,
   "metadata": {},
   "outputs": [
    {
     "data": {
      "text/plain": [
       "<AxesSubplot:xlabel='Date'>"
      ]
     },
     "execution_count": 17,
     "metadata": {},
     "output_type": "execute_result"
    },
    {
     "data": {
      "image/png": "[encoded data removed]",
      "text/plain": [
       "<Figure size 432x288 with 1 Axes>"
      ]
     },
     "metadata": {
      "needs_background": "light"
     },
     "output_type": "display_data"
    }
   ],
   "source": [
    "combined.plot()"
   ]
  },
  {
   "cell_type": "code",
   "execution_count": null,
   "metadata": {},
   "outputs": [],
   "source": [
    "#make step = 100\n",
    "def backtest(data, model, predictors, start = 1000, step=20):\n",
    "    predictions = []\n",
    "    for i in range(start, data.shape[0], step):\n",
    "\n",
    "        train = data.iloc[0:i].copy()\n",
    "        test = data.iloc[i:(i+step)].copy()\n",
    "\n",
    "        model.fit(train[predictors], train[\"Target\"])\n",
    "\n",
    "        preds = model.predict_proba(test[predictors])[:,1]\n",
    "        preds = pd.Series(preds, index=test.index)\n",
    "        preds[preds > 0.55] = 1\n",
    "        preds[preds <= 0.55] = 0\n",
    "\n",
    "        combined = pd.concat({\"Target\": test[\"Target\"], \"Predictions\": preds}, axis=1)\n",
    "\n",
    "        predictions.append(combined)\n",
    "\n",
    "    predictions = pd.concat(predictions)\n",
    "    return predictions"
   ]
  },
  {
   "cell_type": "code",
   "execution_count": null,
   "metadata": {},
   "outputs": [
    {
     "ename": "NameError",
     "evalue": "name 'predictions' is not defined",
     "output_type": "error",
     "traceback": [
      "\u001b[0;31m---------------------------------------------------------------------------\u001b[0m",
      "\u001b[0;31mNameError\u001b[0m                                 Traceback (most recent call last)",
      "\u001b[0;32m<ipython-input-19-2d61b8ad9ae7>\u001b[0m in \u001b[0;36m<module>\u001b[0;34m\u001b[0m\n\u001b[0;32m----> 1\u001b[0;31m \u001b[0mpredictions\u001b[0m\u001b[0;34m[\u001b[0m\u001b[0;34m\"Predictions\"\u001b[0m\u001b[0;34m]\u001b[0m\u001b[0;34m.\u001b[0m\u001b[0mvalue_counts\u001b[0m\u001b[0;34m(\u001b[0m\u001b[0;34m)\u001b[0m\u001b[0;34m\u001b[0m\u001b[0;34m\u001b[0m\u001b[0m\n\u001b[0m",
      "\u001b[0;31mNameError\u001b[0m: name 'predictions' is not defined"
     ]
    }
   ],
   "source": [
    "predictions[\"Predictions\"].value_counts()"
   ]
  },
  {
   "cell_type": "code",
   "execution_count": null,
   "metadata": {},
   "outputs": [],
   "source": [
    "precision_score(predictions[\"Target\"], predictions[\"Predictions\"])"
   ]
  },
  {
   "cell_type": "code",
   "execution_count": null,
   "metadata": {},
   "outputs": [],
   "source": [
    "weekly_mean = data.rolling(7).mean()\n",
    "quarterly_mean = data.rolling(90).mean()\n",
    "annual_mean = data.rolling(365).mean()\n",
    "\n",
    "weekly_trend = data.shift(1).rolling(7).mean()[\"Target\"]"
   ]
  },
  {
   "cell_type": "code",
   "execution_count": null,
   "metadata": {},
   "outputs": [],
   "source": [
    "data[\"weekly_mean\"] = weekly_mean[\"Close\"] / data[\"Close\"]\n",
    "data[\"quarterly_mean\"] = quarterly_mean[\"Close\"] / data[\"Close\"]\n",
    "data[\"annual_mean\"] = annual_mean[\"Close\"] / data[\"Close\"]\n",
    "\n",
    "data[\"annual_weekly_mean\"] = data[\"annual_mean\"] / data[\"weekly_mean\"]\n",
    "data[\"annual_quarterly_mean\"] = data[\"annual_mean\"] / data[\"quarterly_mean\"]\n",
    "data[\"weekly_trend\"] = weekly_trend\n",
    "\n",
    "data[\"open_close_ratio\"] = data[\"Open\"] / data[\"Close\"]\n",
    "data[\"high_close_ratio\"] = data[\"High\"] / data[\"Close\"]\n",
    "data[\"low_close_ratio\"] = data[\"Low\"] / data[\"Close\"]\n",
    "full_predictors = predictors + [\"weekly_mean\", \"quarterly_mean\", \"annual_mean\", \"annual_weekly_mean\", \"annual_quarterly_mean\", \"weekly_trend\", \"open_close_ratio\", \"high_close_ratio\", \"low_close_ratio\"]"
   ]
  },
  {
   "cell_type": "code",
   "execution_count": null,
   "metadata": {},
   "outputs": [],
   "source": [
    "predictions = backtest(data.iloc[365:], model, full_predictors)"
   ]
  },
  {
   "cell_type": "code",
   "execution_count": null,
   "metadata": {},
   "outputs": [],
   "source": [
    "precision_score(predictions[\"Target\"], predictions[\"Predictions\"])"
   ]
  },
  {
   "cell_type": "code",
   "execution_count": null,
   "metadata": {},
   "outputs": [],
   "source": [
    "predictions[\"Predictions\"].value_counts()"
   ]
  },
  {
   "cell_type": "code",
   "execution_count": null,
   "metadata": {},
   "outputs": [],
   "source": [
    "combined"
   ]
  },
  {
   "cell_type": "code",
   "execution_count": null,
   "metadata": {},
   "outputs": [],
   "source": []
  }
 ],
 "metadata": {
  "colab": {
   "provenance": []
  },
  "kernelspec": {
   "display_name": "Python 3",
   "language": "python",
   "name": "python3"
  },
  "language_info": {
   "codemirror_mode": {
    "name": "ipython",
    "version": 3
   },
   "file_extension": ".py",
   "mimetype": "text/x-python",
   "name": "python",
   "nbconvert_exporter": "python",
   "pygments_lexer": "ipython3",
   "version": "3.8.2"
  }
 },
 "nbformat": 4,
 "nbformat_minor": 4
}
